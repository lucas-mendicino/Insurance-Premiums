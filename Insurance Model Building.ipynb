{
 "cells": [
  {
   "cell_type": "markdown",
   "metadata": {},
   "source": [
    "# In this project, I work with a US Health Insurance dataset training and fine-tuning a model to predict healthcare premiums.\n",
    "\n",
    "### Link to dataset (https://www.kaggle.com/teertha/ushealthinsurancedataset)"
   ]
  },
  {
   "cell_type": "code",
   "execution_count": 100,
   "metadata": {},
   "outputs": [],
   "source": [
    "import pandas as pd\n",
    "import numpy as np"
   ]
  },
  {
   "cell_type": "code",
   "execution_count": 101,
   "metadata": {},
   "outputs": [],
   "source": [
    "insurance = pd.read_csv(\"/Users/lucasmendicino/desktop/insurance.csv\")"
   ]
  },
  {
   "cell_type": "code",
   "execution_count": 102,
   "metadata": {},
   "outputs": [
    {
     "data": {
      "text/html": [
       "<div>\n",
       "<style scoped>\n",
       "    .dataframe tbody tr th:only-of-type {\n",
       "        vertical-align: middle;\n",
       "    }\n",
       "\n",
       "    .dataframe tbody tr th {\n",
       "        vertical-align: top;\n",
       "    }\n",
       "\n",
       "    .dataframe thead th {\n",
       "        text-align: right;\n",
       "    }\n",
       "</style>\n",
       "<table border=\"1\" class=\"dataframe\">\n",
       "  <thead>\n",
       "    <tr style=\"text-align: right;\">\n",
       "      <th></th>\n",
       "      <th>age</th>\n",
       "      <th>sex</th>\n",
       "      <th>bmi</th>\n",
       "      <th>children</th>\n",
       "      <th>smoker</th>\n",
       "      <th>region</th>\n",
       "      <th>charges</th>\n",
       "    </tr>\n",
       "  </thead>\n",
       "  <tbody>\n",
       "    <tr>\n",
       "      <td>0</td>\n",
       "      <td>19</td>\n",
       "      <td>female</td>\n",
       "      <td>27.900</td>\n",
       "      <td>0</td>\n",
       "      <td>yes</td>\n",
       "      <td>southwest</td>\n",
       "      <td>16884.92400</td>\n",
       "    </tr>\n",
       "    <tr>\n",
       "      <td>1</td>\n",
       "      <td>18</td>\n",
       "      <td>male</td>\n",
       "      <td>33.770</td>\n",
       "      <td>1</td>\n",
       "      <td>no</td>\n",
       "      <td>southeast</td>\n",
       "      <td>1725.55230</td>\n",
       "    </tr>\n",
       "    <tr>\n",
       "      <td>2</td>\n",
       "      <td>28</td>\n",
       "      <td>male</td>\n",
       "      <td>33.000</td>\n",
       "      <td>3</td>\n",
       "      <td>no</td>\n",
       "      <td>southeast</td>\n",
       "      <td>4449.46200</td>\n",
       "    </tr>\n",
       "    <tr>\n",
       "      <td>3</td>\n",
       "      <td>33</td>\n",
       "      <td>male</td>\n",
       "      <td>22.705</td>\n",
       "      <td>0</td>\n",
       "      <td>no</td>\n",
       "      <td>northwest</td>\n",
       "      <td>21984.47061</td>\n",
       "    </tr>\n",
       "    <tr>\n",
       "      <td>4</td>\n",
       "      <td>32</td>\n",
       "      <td>male</td>\n",
       "      <td>28.880</td>\n",
       "      <td>0</td>\n",
       "      <td>no</td>\n",
       "      <td>northwest</td>\n",
       "      <td>3866.85520</td>\n",
       "    </tr>\n",
       "  </tbody>\n",
       "</table>\n",
       "</div>"
      ],
      "text/plain": [
       "   age     sex     bmi  children smoker     region      charges\n",
       "0   19  female  27.900         0    yes  southwest  16884.92400\n",
       "1   18    male  33.770         1     no  southeast   1725.55230\n",
       "2   28    male  33.000         3     no  southeast   4449.46200\n",
       "3   33    male  22.705         0     no  northwest  21984.47061\n",
       "4   32    male  28.880         0     no  northwest   3866.85520"
      ]
     },
     "execution_count": 102,
     "metadata": {},
     "output_type": "execute_result"
    }
   ],
   "source": [
    "insurance.head()"
   ]
  },
  {
   "cell_type": "code",
   "execution_count": 103,
   "metadata": {},
   "outputs": [
    {
     "data": {
      "text/html": [
       "<div>\n",
       "<style scoped>\n",
       "    .dataframe tbody tr th:only-of-type {\n",
       "        vertical-align: middle;\n",
       "    }\n",
       "\n",
       "    .dataframe tbody tr th {\n",
       "        vertical-align: top;\n",
       "    }\n",
       "\n",
       "    .dataframe thead th {\n",
       "        text-align: right;\n",
       "    }\n",
       "</style>\n",
       "<table border=\"1\" class=\"dataframe\">\n",
       "  <thead>\n",
       "    <tr style=\"text-align: right;\">\n",
       "      <th></th>\n",
       "      <th>age</th>\n",
       "      <th>bmi</th>\n",
       "      <th>children</th>\n",
       "      <th>charges</th>\n",
       "      <th>pregnancies</th>\n",
       "    </tr>\n",
       "  </thead>\n",
       "  <tbody>\n",
       "    <tr>\n",
       "      <td>count</td>\n",
       "      <td>1338.000000</td>\n",
       "      <td>1338.000000</td>\n",
       "      <td>1338.000000</td>\n",
       "      <td>1338.000000</td>\n",
       "      <td>1338.00000</td>\n",
       "    </tr>\n",
       "    <tr>\n",
       "      <td>mean</td>\n",
       "      <td>39.207025</td>\n",
       "      <td>30.663397</td>\n",
       "      <td>1.094918</td>\n",
       "      <td>13270.422265</td>\n",
       "      <td>0.53139</td>\n",
       "    </tr>\n",
       "    <tr>\n",
       "      <td>std</td>\n",
       "      <td>14.049960</td>\n",
       "      <td>6.098187</td>\n",
       "      <td>1.205493</td>\n",
       "      <td>12110.011237</td>\n",
       "      <td>0.99557</td>\n",
       "    </tr>\n",
       "    <tr>\n",
       "      <td>min</td>\n",
       "      <td>18.000000</td>\n",
       "      <td>15.960000</td>\n",
       "      <td>0.000000</td>\n",
       "      <td>1121.873900</td>\n",
       "      <td>0.00000</td>\n",
       "    </tr>\n",
       "    <tr>\n",
       "      <td>25%</td>\n",
       "      <td>27.000000</td>\n",
       "      <td>26.296250</td>\n",
       "      <td>0.000000</td>\n",
       "      <td>4740.287150</td>\n",
       "      <td>0.00000</td>\n",
       "    </tr>\n",
       "    <tr>\n",
       "      <td>50%</td>\n",
       "      <td>39.000000</td>\n",
       "      <td>30.400000</td>\n",
       "      <td>1.000000</td>\n",
       "      <td>9382.033000</td>\n",
       "      <td>0.00000</td>\n",
       "    </tr>\n",
       "    <tr>\n",
       "      <td>75%</td>\n",
       "      <td>51.000000</td>\n",
       "      <td>34.693750</td>\n",
       "      <td>2.000000</td>\n",
       "      <td>16639.912515</td>\n",
       "      <td>1.00000</td>\n",
       "    </tr>\n",
       "    <tr>\n",
       "      <td>max</td>\n",
       "      <td>64.000000</td>\n",
       "      <td>53.130000</td>\n",
       "      <td>5.000000</td>\n",
       "      <td>63770.428010</td>\n",
       "      <td>5.00000</td>\n",
       "    </tr>\n",
       "  </tbody>\n",
       "</table>\n",
       "</div>"
      ],
      "text/plain": [
       "               age          bmi     children       charges  pregnancies\n",
       "count  1338.000000  1338.000000  1338.000000   1338.000000   1338.00000\n",
       "mean     39.207025    30.663397     1.094918  13270.422265      0.53139\n",
       "std      14.049960     6.098187     1.205493  12110.011237      0.99557\n",
       "min      18.000000    15.960000     0.000000   1121.873900      0.00000\n",
       "25%      27.000000    26.296250     0.000000   4740.287150      0.00000\n",
       "50%      39.000000    30.400000     1.000000   9382.033000      0.00000\n",
       "75%      51.000000    34.693750     2.000000  16639.912515      1.00000\n",
       "max      64.000000    53.130000     5.000000  63770.428010      5.00000"
      ]
     },
     "execution_count": 103,
     "metadata": {},
     "output_type": "execute_result"
    }
   ],
   "source": [
    "# new variable: pregancies -- # of pregnancies\n",
    "\n",
    "females = insurance[insurance['sex'] == 'female']\n",
    "insurance['pregnancies'] = females['children']\n",
    "insurance['pregnancies'] = insurance['pregnancies'].replace(np.nan,0)\n",
    "insurance.describe()"
   ]
  },
  {
   "cell_type": "code",
   "execution_count": null,
   "metadata": {},
   "outputs": [],
   "source": []
  },
  {
   "cell_type": "code",
   "execution_count": 104,
   "metadata": {},
   "outputs": [
    {
     "data": {
      "text/plain": [
       "age               int64\n",
       "sex            category\n",
       "bmi             float64\n",
       "children       category\n",
       "smoker         category\n",
       "region         category\n",
       "charges         float64\n",
       "pregnancies    category\n",
       "dtype: object"
      ]
     },
     "execution_count": 104,
     "metadata": {},
     "output_type": "execute_result"
    }
   ],
   "source": [
    "# convert to category\n",
    "\n",
    "for x in ['sex', 'children', 'smoker', 'region', 'pregnancies']:\n",
    "    insurance[x] = insurance[x].astype('category')\n",
    "    \n",
    "insurance.dtypes"
   ]
  },
  {
   "cell_type": "code",
   "execution_count": 105,
   "metadata": {},
   "outputs": [
    {
     "data": {
      "text/plain": [
       "Index(['sex', 'children', 'smoker', 'region', 'pregnancies'], dtype='object')"
      ]
     },
     "execution_count": 105,
     "metadata": {},
     "output_type": "execute_result"
    }
   ],
   "source": [
    "# select all columns of the dataFrame with datatype = category:\n",
    "\n",
    "categories = insurance.select_dtypes(['category']).columns\n",
    "categories"
   ]
  },
  {
   "cell_type": "code",
   "execution_count": 106,
   "metadata": {},
   "outputs": [
    {
     "data": {
      "text/html": [
       "<div>\n",
       "<style scoped>\n",
       "    .dataframe tbody tr th:only-of-type {\n",
       "        vertical-align: middle;\n",
       "    }\n",
       "\n",
       "    .dataframe tbody tr th {\n",
       "        vertical-align: top;\n",
       "    }\n",
       "\n",
       "    .dataframe thead th {\n",
       "        text-align: right;\n",
       "    }\n",
       "</style>\n",
       "<table border=\"1\" class=\"dataframe\">\n",
       "  <thead>\n",
       "    <tr style=\"text-align: right;\">\n",
       "      <th></th>\n",
       "      <th>age</th>\n",
       "      <th>sex</th>\n",
       "      <th>bmi</th>\n",
       "      <th>children</th>\n",
       "      <th>smoker</th>\n",
       "      <th>region</th>\n",
       "      <th>charges</th>\n",
       "      <th>pregnancies</th>\n",
       "    </tr>\n",
       "  </thead>\n",
       "  <tbody>\n",
       "    <tr>\n",
       "      <td>0</td>\n",
       "      <td>19</td>\n",
       "      <td>0</td>\n",
       "      <td>27.900</td>\n",
       "      <td>0</td>\n",
       "      <td>1</td>\n",
       "      <td>3</td>\n",
       "      <td>16884.92400</td>\n",
       "      <td>0</td>\n",
       "    </tr>\n",
       "    <tr>\n",
       "      <td>1</td>\n",
       "      <td>18</td>\n",
       "      <td>1</td>\n",
       "      <td>33.770</td>\n",
       "      <td>1</td>\n",
       "      <td>0</td>\n",
       "      <td>2</td>\n",
       "      <td>1725.55230</td>\n",
       "      <td>0</td>\n",
       "    </tr>\n",
       "    <tr>\n",
       "      <td>2</td>\n",
       "      <td>28</td>\n",
       "      <td>1</td>\n",
       "      <td>33.000</td>\n",
       "      <td>3</td>\n",
       "      <td>0</td>\n",
       "      <td>2</td>\n",
       "      <td>4449.46200</td>\n",
       "      <td>0</td>\n",
       "    </tr>\n",
       "    <tr>\n",
       "      <td>3</td>\n",
       "      <td>33</td>\n",
       "      <td>1</td>\n",
       "      <td>22.705</td>\n",
       "      <td>0</td>\n",
       "      <td>0</td>\n",
       "      <td>1</td>\n",
       "      <td>21984.47061</td>\n",
       "      <td>0</td>\n",
       "    </tr>\n",
       "    <tr>\n",
       "      <td>4</td>\n",
       "      <td>32</td>\n",
       "      <td>1</td>\n",
       "      <td>28.880</td>\n",
       "      <td>0</td>\n",
       "      <td>0</td>\n",
       "      <td>1</td>\n",
       "      <td>3866.85520</td>\n",
       "      <td>0</td>\n",
       "    </tr>\n",
       "  </tbody>\n",
       "</table>\n",
       "</div>"
      ],
      "text/plain": [
       "   age  sex     bmi  children  smoker  region      charges  pregnancies\n",
       "0   19    0  27.900         0       1       3  16884.92400            0\n",
       "1   18    1  33.770         1       0       2   1725.55230            0\n",
       "2   28    1  33.000         3       0       2   4449.46200            0\n",
       "3   33    1  22.705         0       0       1  21984.47061            0\n",
       "4   32    1  28.880         0       0       1   3866.85520            0"
      ]
     },
     "execution_count": 106,
     "metadata": {},
     "output_type": "execute_result"
    }
   ],
   "source": [
    "# transform the original columns by replacing the elements with their category codes:\n",
    "\n",
    "insurance[categories] = insurance[categories].apply(lambda x: x.cat.codes)\n",
    "insurance.head()"
   ]
  },
  {
   "cell_type": "markdown",
   "metadata": {},
   "source": [
    "# Correlation"
   ]
  },
  {
   "cell_type": "code",
   "execution_count": 48,
   "metadata": {},
   "outputs": [
    {
     "data": {
      "image/png": "[encoded data removed]",
      "text/plain": [
       "<Figure size 720x576 with 2 Axes>"
      ]
     },
     "metadata": {},
     "output_type": "display_data"
    }
   ],
   "source": [
    "corr = insurance.corr()\n",
    "\n",
    "plt.figure(figsize = (10,8))\n",
    "sns.heatmap(corr, annot = True)\n",
    "plt.show()"
   ]
  },
  {
   "cell_type": "markdown",
   "metadata": {},
   "source": [
    "# Let's prepare out train and test sets and create a pipeline to preprocess the data."
   ]
  },
  {
   "cell_type": "code",
   "execution_count": 107,
   "metadata": {},
   "outputs": [],
   "source": [
    "# create train and test sets\n",
    "from sklearn.model_selection import train_test_split\n",
    "\n",
    "X = insurance[['age', 'sex', 'bmi', 'children', 'smoker', 'region', 'pregnancies']]\n",
    "y = insurance['charges']\n",
    "\n",
    "X_train, X_test, y_train, y_test = train_test_split(X, y, test_size=0.20, random_state = 42)"
   ]
  },
  {
   "cell_type": "code",
   "execution_count": 108,
   "metadata": {},
   "outputs": [],
   "source": [
    "# Let's create a pipeline to deal with preprocessing of the data\n",
    "\n",
    "from sklearn.pipeline import Pipeline\n",
    "from sklearn.preprocessing import StandardScaler\n",
    "from sklearn.preprocessing import OneHotEncoder\n",
    "from sklearn.compose import ColumnTransformer\n",
    "\n",
    "features_num = ['age', 'bmi']\n",
    "features_cat = ['sex', 'children', 'smoker', 'region', 'pregnancies']\n",
    "\n",
    "num_transformer = Pipeline(steps=[\n",
    "    ('scaler', StandardScaler())])\n",
    "\n",
    "cat_transformer = Pipeline(steps=[\n",
    "    ('onehot', OneHotEncoder())])\n",
    "\n",
    "preprocessor = ColumnTransformer(\n",
    "    transformers=[\n",
    "        ('Features numerical', num_transformer, features_num),\n",
    "        ('Features categorical', cat_transformer, features_cat)\n",
    "    ])"
   ]
  },
  {
   "cell_type": "markdown",
   "metadata": {},
   "source": [
    "# First, let's do a regularized form of Linear Regression, Lasso Regression. It uses an L1 penalty term that can allow us to figure out feature importances."
   ]
  },
  {
   "cell_type": "code",
   "execution_count": 128,
   "metadata": {},
   "outputs": [
    {
     "data": {
      "text/plain": [
       "Pipeline(steps=[('preprocessor',\n",
       "                 ColumnTransformer(transformers=[('Features numerical',\n",
       "                                                  Pipeline(steps=[('scaler',\n",
       "                                                                   StandardScaler())]),\n",
       "                                                  ['age', 'bmi']),\n",
       "                                                 ('Features categorical',\n",
       "                                                  Pipeline(steps=[('onehot',\n",
       "                                                                   OneHotEncoder())]),\n",
       "                                                  ['sex', 'children', 'smoker',\n",
       "                                                   'region',\n",
       "                                                   'pregnancies'])])),\n",
       "                ('classifier', Lasso(alpha=0.1))])"
      ]
     },
     "execution_count": 128,
     "metadata": {},
     "output_type": "execute_result"
    }
   ],
   "source": [
    "from sklearn.linear_model import Lasso\n",
    "\n",
    "lasso_reg = Pipeline([('preprocessor', preprocessor),\n",
    "                  ('classifier', Lasso(alpha = 0.1))\n",
    "                 ])\n",
    "\n",
    "lasso_reg.fit(X_train, y_train)"
   ]
  },
  {
   "cell_type": "code",
   "execution_count": 129,
   "metadata": {},
   "outputs": [
    {
     "data": {
      "text/plain": [
       "GridSearchCV(cv=5,\n",
       "             estimator=Pipeline(steps=[('preprocessor',\n",
       "                                        ColumnTransformer(transformers=[('Features '\n",
       "                                                                         'numerical',\n",
       "                                                                         Pipeline(steps=[('scaler',\n",
       "                                                                                          StandardScaler())]),\n",
       "                                                                         ['age',\n",
       "                                                                          'bmi']),\n",
       "                                                                        ('Features '\n",
       "                                                                         'categorical',\n",
       "                                                                         Pipeline(steps=[('onehot',\n",
       "                                                                                          OneHotEncoder())]),\n",
       "                                                                         ['sex',\n",
       "                                                                          'children',\n",
       "                                                                          'smoker',\n",
       "                                                                          'region',\n",
       "                                                                          'pregnancies'])])),\n",
       "                                       ('classifier', Lasso(alpha=0.1))]),\n",
       "             param_grid={'cl...\n",
       "       1.4, 1.5, 1.6, 1.7, 1.8, 1.9, 2. , 2.1, 2.2, 2.3, 2.4, 2.5, 2.6,\n",
       "       2.7, 2.8, 2.9, 3. , 3.1, 3.2, 3.3, 3.4, 3.5, 3.6, 3.7, 3.8, 3.9,\n",
       "       4. , 4.1, 4.2, 4.3, 4.4, 4.5, 4.6, 4.7, 4.8, 4.9, 5. , 5.1, 5.2,\n",
       "       5.3, 5.4, 5.5, 5.6, 5.7, 5.8, 5.9, 6. , 6.1, 6.2, 6.3, 6.4, 6.5,\n",
       "       6.6, 6.7, 6.8, 6.9, 7. , 7.1, 7.2, 7.3, 7.4, 7.5, 7.6, 7.7, 7.8,\n",
       "       7.9, 8. , 8.1, 8.2, 8.3, 8.4, 8.5, 8.6, 8.7, 8.8, 8.9, 9. , 9.1,\n",
       "       9.2, 9.3, 9.4, 9.5, 9.6, 9.7, 9.8, 9.9])},\n",
       "             scoring='neg_mean_squared_error')"
      ]
     },
     "execution_count": 129,
     "metadata": {},
     "output_type": "execute_result"
    }
   ],
   "source": [
    "from sklearn.model_selection import GridSearchCV\n",
    "\n",
    "param_distrib = {'classifier__alpha': np.arange(0.1,10,0.1)}\n",
    "\n",
    "gd = GridSearchCV(lasso_reg, param_distrib, cv = 5, scoring = \"neg_mean_squared_error\" )\n",
    "\n",
    "gd.fit(X_train, y_train)"
   ]
  },
  {
   "cell_type": "code",
   "execution_count": 130,
   "metadata": {},
   "outputs": [
    {
     "data": {
      "text/plain": [
       "array([3.61628327e+03, 2.00952432e+03, 1.48654562e+02, 0.00000000e+00,\n",
       "       6.41461386e+02, 6.26834418e+02, 8.60076595e+02, 0.00000000e+00,\n",
       "       1.18689697e+03, 0.00000000e+00, 2.35911472e+04, 0.00000000e+00,\n",
       "       5.68744952e+02, 1.69767733e+02, 6.16620319e+00, 1.61037968e+02,\n",
       "       0.00000000e+00, 6.90938606e+02, 2.82880223e+01, 0.00000000e+00,\n",
       "       2.33077363e+03, 0.00000000e+00])"
      ]
     },
     "execution_count": 130,
     "metadata": {},
     "output_type": "execute_result"
    }
   ],
   "source": [
    "coefficients = gd.best_estimator_.named_steps['classifier'].coef_\n",
    "importance = np.abs(coefficients)\n",
    "importance"
   ]
  },
  {
   "cell_type": "code",
   "execution_count": 131,
   "metadata": {},
   "outputs": [
    {
     "data": {
      "text/plain": [
       "[(3616.283268582154, 'age'),\n",
       " (2009.5243156219858, 'bmi'),\n",
       " (860.0765948286261, 'pregnancies'),\n",
       " (641.4613857144955, 'smoker'),\n",
       " (626.8344175588987, 'region'),\n",
       " (148.6545620971342, 'sex'),\n",
       " (0.0, 'children')]"
      ]
     },
     "execution_count": 131,
     "metadata": {},
     "output_type": "execute_result"
    }
   ],
   "source": [
    "features_num = ['age', 'bmi']\n",
    "features_cat = ['sex', 'children', 'smoker', 'region', 'pregnancies']\n",
    "\n",
    "attributes = features_num + features_cat \n",
    "sorted(zip(importance, attributes), reverse = True)"
   ]
  },
  {
   "cell_type": "markdown",
   "metadata": {},
   "source": [
    "# Let's remove children from our features list"
   ]
  },
  {
   "cell_type": "code",
   "execution_count": 139,
   "metadata": {},
   "outputs": [],
   "source": [
    "X = insurance[['age', 'sex', 'bmi', 'smoker', 'region', 'pregnancies']]\n",
    "y = insurance['charges']\n",
    "\n",
    "X_train, X_test, y_train, y_test = train_test_split(X, y, test_size=0.20, random_state = 42)\n",
    "\n",
    "\n",
    "features_cat = ['sex', 'smoker', 'region', 'pregnancies']\n",
    "\n",
    "preprocessor = ColumnTransformer(\n",
    "    transformers=[\n",
    "        ('Features numerical', num_transformer, features_num),\n",
    "        ('Features categorical', cat_transformer, features_cat)\n",
    "    ])"
   ]
  },
  {
   "cell_type": "markdown",
   "metadata": {},
   "source": [
    "# Let's do some modeling with Linear Regression"
   ]
  },
  {
   "cell_type": "code",
   "execution_count": 140,
   "metadata": {},
   "outputs": [
    {
     "data": {
      "text/plain": [
       "Pipeline(steps=[('preprocessor',\n",
       "                 ColumnTransformer(transformers=[('Features numerical',\n",
       "                                                  Pipeline(steps=[('scaler',\n",
       "                                                                   StandardScaler())]),\n",
       "                                                  ['age', 'bmi']),\n",
       "                                                 ('Features categorical',\n",
       "                                                  Pipeline(steps=[('onehot',\n",
       "                                                                   OneHotEncoder())]),\n",
       "                                                  ['sex', 'smoker', 'region',\n",
       "                                                   'pregnancies'])])),\n",
       "                ('classifier', LinearRegression())])"
      ]
     },
     "execution_count": 140,
     "metadata": {},
     "output_type": "execute_result"
    }
   ],
   "source": [
    "from sklearn.linear_model import LinearRegression\n",
    "\n",
    "lin_reg = Pipeline([('preprocessor', preprocessor),\n",
    "                  ('classifier', LinearRegression())\n",
    "                 ])\n",
    "\n",
    "lin_reg.fit(X_train, y_train)"
   ]
  },
  {
   "cell_type": "code",
   "execution_count": 141,
   "metadata": {},
   "outputs": [
    {
     "data": {
      "text/plain": [
       "6099.101799108426"
      ]
     },
     "execution_count": 141,
     "metadata": {},
     "output_type": "execute_result"
    }
   ],
   "source": [
    "from sklearn.metrics import mean_squared_error\n",
    "\n",
    "lr_preds = lin_reg.predict(X_train)\n",
    "lin_mse = mean_squared_error(y_train, lr_preds)\n",
    "lin_rmse = np.sqrt(lin_mse)\n",
    "lin_rmse"
   ]
  },
  {
   "cell_type": "code",
   "execution_count": 142,
   "metadata": {},
   "outputs": [],
   "source": [
    "from sklearn.model_selection import cross_val_score\n",
    "\n",
    "lr_cv = cross_val_score(lin_reg, X_train, y_train,\n",
    "                         scoring=\"neg_mean_squared_error\", cv = 10)\n",
    "lr_rmse_scores = np.sqrt(-lr_cv)"
   ]
  },
  {
   "cell_type": "code",
   "execution_count": 143,
   "metadata": {},
   "outputs": [
    {
     "name": "stdout",
     "output_type": "stream",
     "text": [
      "Scores: [6137.11928234 6536.15246418 5241.65541183 6096.05978554 5836.27139425\n",
      " 6231.58397905 7287.19570028 6228.64971007 6212.70856062 5739.29851475]\n",
      "Mean: 6154.669480290018\n",
      "Standard deviation: 505.3860435850475\n"
     ]
    }
   ],
   "source": [
    "def display_scores(cv):\n",
    "    print(\"Scores:\", cv)\n",
    "    print(\"Mean:\", cv.mean())\n",
    "    print(\"Standard deviation:\", cv.std())\n",
    "\n",
    "display_scores(lr_rmse_scores)"
   ]
  },
  {
   "cell_type": "markdown",
   "metadata": {},
   "source": [
    "## Let's try a Decision Tree Regressor"
   ]
  },
  {
   "cell_type": "code",
   "execution_count": 144,
   "metadata": {},
   "outputs": [
    {
     "data": {
      "text/plain": [
       "Pipeline(steps=[('preprocessor',\n",
       "                 ColumnTransformer(transformers=[('Features numerical',\n",
       "                                                  Pipeline(steps=[('scaler',\n",
       "                                                                   StandardScaler())]),\n",
       "                                                  ['age', 'bmi']),\n",
       "                                                 ('Features categorical',\n",
       "                                                  Pipeline(steps=[('onehot',\n",
       "                                                                   OneHotEncoder())]),\n",
       "                                                  ['sex', 'smoker', 'region',\n",
       "                                                   'pregnancies'])])),\n",
       "                ('classifier', DecisionTreeRegressor(random_state=42))])"
      ]
     },
     "execution_count": 144,
     "metadata": {},
     "output_type": "execute_result"
    }
   ],
   "source": [
    "from sklearn.tree import DecisionTreeRegressor\n",
    "\n",
    "tree_reg = Pipeline([('preprocessor', preprocessor),\n",
    "                 ('classifier', DecisionTreeRegressor(random_state = 42))\n",
    "                 ])\n",
    "\n",
    "tree_reg.fit(X_train, y_train)"
   ]
  },
  {
   "cell_type": "code",
   "execution_count": 145,
   "metadata": {},
   "outputs": [
    {
     "data": {
      "text/plain": [
       "494.53390138188126"
      ]
     },
     "execution_count": 145,
     "metadata": {},
     "output_type": "execute_result"
    }
   ],
   "source": [
    "tree_preds = tree_reg.predict(X_train)\n",
    "tree_mse = mean_squared_error(y_train, tree_preds)\n",
    "tree_rmse = np.sqrt(tree_mse)\n",
    "tree_rmse"
   ]
  },
  {
   "cell_type": "code",
   "execution_count": 146,
   "metadata": {},
   "outputs": [],
   "source": [
    "tree_cv = cross_val_score(tree_reg, X_train, y_train,\n",
    "                         scoring=\"neg_mean_squared_error\", cv=10)\n",
    "tree_rmse_scores = np.sqrt(-tree_cv)"
   ]
  },
  {
   "cell_type": "code",
   "execution_count": 147,
   "metadata": {},
   "outputs": [
    {
     "name": "stdout",
     "output_type": "stream",
     "text": [
      "Scores: [5492.9084016  6540.20582807 5504.70419003 7219.36870689 6672.42946254\n",
      " 7509.35421674 7645.32592737 6686.321583   7362.13868226 5547.74631049]\n",
      "Mean: 6618.050330898312\n",
      "Standard deviation: 801.8529502952574\n"
     ]
    }
   ],
   "source": [
    "display_scores(tree_rmse_scores)"
   ]
  },
  {
   "cell_type": "markdown",
   "metadata": {},
   "source": [
    "# Let's try a Random Forest Regressor"
   ]
  },
  {
   "cell_type": "code",
   "execution_count": 148,
   "metadata": {},
   "outputs": [
    {
     "data": {
      "text/plain": [
       "Pipeline(steps=[('preprocessor',\n",
       "                 ColumnTransformer(transformers=[('Features numerical',\n",
       "                                                  Pipeline(steps=[('scaler',\n",
       "                                                                   StandardScaler())]),\n",
       "                                                  ['age', 'bmi']),\n",
       "                                                 ('Features categorical',\n",
       "                                                  Pipeline(steps=[('onehot',\n",
       "                                                                   OneHotEncoder())]),\n",
       "                                                  ['sex', 'smoker', 'region',\n",
       "                                                   'pregnancies'])])),\n",
       "                ('classifier',\n",
       "                 RandomForestRegressor(n_estimators=10, random_state=42))])"
      ]
     },
     "execution_count": 148,
     "metadata": {},
     "output_type": "execute_result"
    }
   ],
   "source": [
    "from sklearn.ensemble import RandomForestRegressor\n",
    "\n",
    "forest_reg = Pipeline([('preprocessor', preprocessor),\n",
    "                 ('classifier', RandomForestRegressor(n_estimators = 10, random_state = 42))\n",
    "                 ])\n",
    "\n",
    "forest_reg.fit(X_train, y_train)"
   ]
  },
  {
   "cell_type": "code",
   "execution_count": 149,
   "metadata": {},
   "outputs": [
    {
     "data": {
      "text/plain": [
       "2281.7191747710626"
      ]
     },
     "execution_count": 149,
     "metadata": {},
     "output_type": "execute_result"
    }
   ],
   "source": [
    "forest_preds = forest_reg.predict(X_train)\n",
    "forest_mse = mean_squared_error(y_train, forest_preds)\n",
    "forest_rmse = np.sqrt(forest_mse)\n",
    "forest_rmse"
   ]
  },
  {
   "cell_type": "code",
   "execution_count": 150,
   "metadata": {},
   "outputs": [
    {
     "name": "stdout",
     "output_type": "stream",
     "text": [
      "Scores: [4672.61630949 5385.22742952 4467.7752236  4546.34199815 5180.57797975\n",
      " 4913.96335488 5837.43498489 5297.40354715 5659.45971771 5084.12547403]\n",
      "Mean: 5104.492601917644\n",
      "Standard deviation: 436.713081952747\n"
     ]
    }
   ],
   "source": [
    "forest_cv = cross_val_score(forest_reg, X_train, y_train,\n",
    "                             scoring=\"neg_mean_squared_error\", cv=10)\n",
    "forest_rmse_scores = np.sqrt(-forest_cv)\n",
    "display_scores(forest_rmse_scores)"
   ]
  },
  {
   "cell_type": "code",
   "execution_count": 151,
   "metadata": {},
   "outputs": [
    {
     "data": {
      "text/plain": [
       "count      10.000000\n",
       "mean     5104.492602\n",
       "std       460.336008\n",
       "min      4467.775224\n",
       "25%      4732.953071\n",
       "50%      5132.351727\n",
       "75%      5363.271459\n",
       "max      5837.434985\n",
       "dtype: float64"
      ]
     },
     "execution_count": 151,
     "metadata": {},
     "output_type": "execute_result"
    }
   ],
   "source": [
    "pd.Series(np.sqrt(-forest_cv)).describe()"
   ]
  },
  {
   "cell_type": "markdown",
   "metadata": {},
   "source": [
    "# Let's try a Support Vector Machine"
   ]
  },
  {
   "cell_type": "code",
   "execution_count": 152,
   "metadata": {},
   "outputs": [
    {
     "data": {
      "text/plain": [
       "Pipeline(steps=[('preprocessor',\n",
       "                 ColumnTransformer(transformers=[('Features numerical',\n",
       "                                                  Pipeline(steps=[('scaler',\n",
       "                                                                   StandardScaler())]),\n",
       "                                                  ['age', 'bmi']),\n",
       "                                                 ('Features categorical',\n",
       "                                                  Pipeline(steps=[('onehot',\n",
       "                                                                   OneHotEncoder())]),\n",
       "                                                  ['sex', 'smoker', 'region',\n",
       "                                                   'pregnancies'])])),\n",
       "                ('classifierr', SVR(kernel='linear'))])"
      ]
     },
     "execution_count": 152,
     "metadata": {},
     "output_type": "execute_result"
    }
   ],
   "source": [
    "from sklearn.svm import SVR\n",
    "\n",
    "svm_reg = Pipeline([('preprocessor', preprocessor),\n",
    "                   ('classifierr', SVR(kernel = 'linear'))\n",
    "                   ])\n",
    "\n",
    "svm_reg.fit(X_train, y_train)"
   ]
  },
  {
   "cell_type": "code",
   "execution_count": 153,
   "metadata": {},
   "outputs": [
    {
     "data": {
      "text/plain": [
       "12408.125710092547"
      ]
     },
     "execution_count": 153,
     "metadata": {},
     "output_type": "execute_result"
    }
   ],
   "source": [
    "svm_preds = svm_reg.predict(X_train)\n",
    "svm_mse = mean_squared_error(y_train, svm_preds)\n",
    "svm_rmse = np.sqrt(svm_mse)\n",
    "svm_rmse"
   ]
  },
  {
   "cell_type": "code",
   "execution_count": 154,
   "metadata": {},
   "outputs": [
    {
     "name": "stdout",
     "output_type": "stream",
     "text": [
      "Scores: [12424.76037614 12343.08548368 12613.18252778 14412.830259\n",
      " 12806.24018933 10281.12599002 12230.75485633 12031.98921436\n",
      " 12752.02715127 12059.82646333]\n",
      "Mean: 12395.582251124242\n",
      "Standard deviation: 957.0248055244615\n"
     ]
    }
   ],
   "source": [
    "svm_cv = cross_val_score(svm_reg, X_train, y_train,\n",
    "                             scoring=\"neg_mean_squared_error\", cv=10)\n",
    "svm_rmse_scores = np.sqrt(-svm_cv)\n",
    "display_scores(svm_rmse_scores)"
   ]
  },
  {
   "cell_type": "code",
   "execution_count": 155,
   "metadata": {},
   "outputs": [
    {
     "data": {
      "text/html": [
       "<div>\n",
       "<style scoped>\n",
       "    .dataframe tbody tr th:only-of-type {\n",
       "        vertical-align: middle;\n",
       "    }\n",
       "\n",
       "    .dataframe tbody tr th {\n",
       "        vertical-align: top;\n",
       "    }\n",
       "\n",
       "    .dataframe thead th {\n",
       "        text-align: right;\n",
       "    }\n",
       "</style>\n",
       "<table border=\"1\" class=\"dataframe\">\n",
       "  <thead>\n",
       "    <tr style=\"text-align: right;\">\n",
       "      <th></th>\n",
       "      <th>Model</th>\n",
       "      <th>Mean 10-fold CV RMSE, SD</th>\n",
       "    </tr>\n",
       "  </thead>\n",
       "  <tbody>\n",
       "    <tr>\n",
       "      <td>0</td>\n",
       "      <td>Linear Regression</td>\n",
       "      <td>(6154.67, 505.39)</td>\n",
       "    </tr>\n",
       "    <tr>\n",
       "      <td>1</td>\n",
       "      <td>Decision Tree Regressor</td>\n",
       "      <td>(6618.05, 801.85)</td>\n",
       "    </tr>\n",
       "    <tr>\n",
       "      <td>2</td>\n",
       "      <td>Random Forest Regressor</td>\n",
       "      <td>(5104.49, 436.71)</td>\n",
       "    </tr>\n",
       "    <tr>\n",
       "      <td>3</td>\n",
       "      <td>Support Vector Machine</td>\n",
       "      <td>(12395.58, 957.02)</td>\n",
       "    </tr>\n",
       "  </tbody>\n",
       "</table>\n",
       "</div>"
      ],
      "text/plain": [
       "                     Model Mean 10-fold CV RMSE, SD\n",
       "0        Linear Regression        (6154.67, 505.39)\n",
       "1  Decision Tree Regressor        (6618.05, 801.85)\n",
       "2  Random Forest Regressor        (5104.49, 436.71)\n",
       "3   Support Vector Machine       (12395.58, 957.02)"
      ]
     },
     "execution_count": 155,
     "metadata": {},
     "output_type": "execute_result"
    }
   ],
   "source": [
    "result_data = {'Linear Regression': (lr_rmse_scores.mean().round(2), lr_rmse_scores.std().round(2)), \n",
    "               'Decision Tree Regressor': (tree_rmse_scores.mean().round(2), tree_rmse_scores.std().round(2)), \n",
    "               'Random Forest Regressor': (forest_rmse_scores.mean().round(2), forest_rmse_scores.std().round(2)), \n",
    "               'Support Vector Machine':  (svm_rmse_scores.mean().round(2), svm_rmse_scores.std().round(2))}\n",
    "\n",
    "\n",
    "#result_data = {'Model Name': [Linear Regression, Decision Tree Regressor, Random Forest Regressor, \n",
    "#                              Support Vector Machine],\n",
    " #             'Mean 10-fold CV RMSE': [lr_rmse_scores.mean(), tree_rmse_scores.mean(), forest_rmse_scores.mean(),\n",
    "  #                                    svm_rmse_scores.mean()]}\n",
    "\n",
    "result_df = pd.DataFrame(list(result_data.items()), columns = ['Model', 'Mean 10-fold CV RMSE, SD'])\n",
    "result_df"
   ]
  },
  {
   "cell_type": "markdown",
   "metadata": {},
   "source": [
    "# Let's tune the parameters of our Random Forest Regressor"
   ]
  },
  {
   "cell_type": "code",
   "execution_count": 156,
   "metadata": {},
   "outputs": [
    {
     "data": {
      "text/plain": [
       "RandomizedSearchCV(cv=10, estimator=RandomForestRegressor(random_state=42),\n",
       "                   n_iter=50,\n",
       "                   param_distributions={'max_features': <scipy.stats._distn_infrastructure.rv_frozen object at 0x7ff85ac80610>,\n",
       "                                        'n_estimators': <scipy.stats._distn_infrastructure.rv_frozen object at 0x7ff85ac803d0>},\n",
       "                   random_state=42, scoring='neg_mean_squared_error')"
      ]
     },
     "execution_count": 156,
     "metadata": {},
     "output_type": "execute_result"
    }
   ],
   "source": [
    "from sklearn.model_selection import RandomizedSearchCV\n",
    "from scipy.stats import randint\n",
    "\n",
    "param_distribs = {\n",
    "        'n_estimators': randint(low = 1, high = 800),\n",
    "        'max_features': randint(low = 1, high = 10),\n",
    "    }\n",
    "\n",
    "forest_reg = RandomForestRegressor(random_state = 42)\n",
    "\n",
    "rnd_search = RandomizedSearchCV(forest_reg, param_distributions = param_distribs,\n",
    "                               n_iter = 50, cv = 10, scoring = \"neg_mean_squared_error\", random_state = 42)\n",
    "\n",
    "X_train_prepd = preprocessor.fit_transform(X_train)\n",
    "\n",
    "rnd_search.fit(X_train_prepd, y_train)"
   ]
  },
  {
   "cell_type": "code",
   "execution_count": 157,
   "metadata": {},
   "outputs": [
    {
     "name": "stdout",
     "output_type": "stream",
     "text": [
      "4813.587073649978 {'max_features': 7, 'n_estimators': 436}\n",
      "4826.913023204107 {'max_features': 8, 'n_estimators': 701}\n",
      "4806.591559615142 {'max_features': 5, 'n_estimators': 615}\n",
      "4913.836475717504 {'max_features': 3, 'n_estimators': 215}\n",
      "4826.16936566951 {'max_features': 8, 'n_estimators': 373}\n",
      "4840.639598141108 {'max_features': 4, 'n_estimators': 664}\n",
      "4915.53434375258 {'max_features': 3, 'n_estimators': 662}\n",
      "4807.32614250094 {'max_features': 5, 'n_estimators': 770}\n",
      "4826.989623733006 {'max_features': 8, 'n_estimators': 492}\n",
      "4806.870655535346 {'max_features': 6, 'n_estimators': 386}\n",
      "4826.181839327812 {'max_features': 5, 'n_estimators': 161}\n",
      "4804.3460231675335 {'max_features': 6, 'n_estimators': 253}\n",
      "4844.796426886323 {'max_features': 9, 'n_estimators': 561}\n",
      "4909.320622070942 {'max_features': 3, 'n_estimators': 567}\n",
      "4847.041579664879 {'max_features': 4, 'n_estimators': 505}\n",
      "4903.5491599650395 {'max_features': 3, 'n_estimators': 485}\n",
      "4914.333769322828 {'max_features': 3, 'n_estimators': 647}\n",
      "4824.51602828723 {'max_features': 5, 'n_estimators': 167}\n",
      "5070.304208350141 {'max_features': 2, 'n_estimators': 388}\n",
      "4859.378565049512 {'max_features': 9, 'n_estimators': 316}\n",
      "5069.804647542722 {'max_features': 2, 'n_estimators': 777}\n",
      "4819.3601595598075 {'max_features': 5, 'n_estimators': 340}\n",
      "4814.486804362003 {'max_features': 7, 'n_estimators': 428}\n",
      "4866.706097263925 {'max_features': 8, 'n_estimators': 35}\n",
      "5233.705521955177 {'max_features': 1, 'n_estimators': 562}\n",
      "4826.764948174438 {'max_features': 8, 'n_estimators': 388}\n",
      "5068.9866324174955 {'max_features': 2, 'n_estimators': 390}\n",
      "4804.746176345026 {'max_features': 6, 'n_estimators': 106}\n",
      "4841.780471264734 {'max_features': 4, 'n_estimators': 477}\n",
      "5069.0863892920215 {'max_features': 2, 'n_estimators': 730}\n",
      "5064.95022241092 {'max_features': 2, 'n_estimators': 202}\n",
      "4849.8557962086825 {'max_features': 4, 'n_estimators': 270}\n",
      "4826.208524986466 {'max_features': 8, 'n_estimators': 462}\n",
      "4810.407710574258 {'max_features': 7, 'n_estimators': 252}\n",
      "4847.311408150977 {'max_features': 9, 'n_estimators': 702}\n",
      "4828.823772851074 {'max_features': 8, 'n_estimators': 725}\n",
      "5161.942624782719 {'max_features': 2, 'n_estimators': 53}\n",
      "4826.130208937875 {'max_features': 8, 'n_estimators': 217}\n",
      "4859.709170421607 {'max_features': 9, 'n_estimators': 157}\n",
      "5230.662121087232 {'max_features': 1, 'n_estimators': 521}\n",
      "4836.4005691986595 {'max_features': 8, 'n_estimators': 129}\n",
      "4825.358483738717 {'max_features': 8, 'n_estimators': 472}\n",
      "4912.858617100571 {'max_features': 3, 'n_estimators': 593}\n",
      "4828.614301040149 {'max_features': 8, 'n_estimators': 675}\n",
      "4896.068190471858 {'max_features': 3, 'n_estimators': 289}\n",
      "4815.593730707289 {'max_features': 5, 'n_estimators': 490}\n",
      "4836.766181179612 {'max_features': 7, 'n_estimators': 41}\n",
      "4812.567722456657 {'max_features': 7, 'n_estimators': 201}\n",
      "4831.89210801447 {'max_features': 8, 'n_estimators': 780}\n",
      "5163.156396478703 {'max_features': 2, 'n_estimators': 33}\n"
     ]
    }
   ],
   "source": [
    "cvres = rnd_search.cv_results_\n",
    "for mean_score, params in zip(cvres[\"mean_test_score\"], cvres[\"params\"]):\n",
    "    print(np.sqrt(-mean_score), params)"
   ]
  },
  {
   "cell_type": "code",
   "execution_count": 158,
   "metadata": {},
   "outputs": [
    {
     "data": {
      "text/plain": [
       "4804.3460231675335"
      ]
     },
     "execution_count": 158,
     "metadata": {},
     "output_type": "execute_result"
    }
   ],
   "source": [
    "neg_mse = rnd_search.best_score_\n",
    "rmse = np.sqrt(-neg_mse)\n",
    "rmse"
   ]
  },
  {
   "cell_type": "code",
   "execution_count": 159,
   "metadata": {},
   "outputs": [
    {
     "data": {
      "text/plain": [
       "{'max_features': 6, 'n_estimators': 253}"
      ]
     },
     "execution_count": 159,
     "metadata": {},
     "output_type": "execute_result"
    }
   ],
   "source": [
    "rnd_search.best_params_"
   ]
  },
  {
   "cell_type": "code",
   "execution_count": 160,
   "metadata": {},
   "outputs": [
    {
     "data": {
      "text/plain": [
       "array([1.47984493e-01, 1.80567735e-01, 4.03938985e-03, 3.75190146e-03,\n",
       "       3.19294830e-01, 3.03233413e-01, 6.82721496e-03, 5.57998714e-03,\n",
       "       6.66761557e-03, 4.58381081e-03, 4.56768698e-03, 4.15583685e-03,\n",
       "       3.41476109e-03, 2.16174526e-03, 2.91432547e-03, 2.55252728e-04])"
      ]
     },
     "execution_count": 160,
     "metadata": {},
     "output_type": "execute_result"
    }
   ],
   "source": [
    "feature_importances = rnd_search.best_estimator_.feature_importances_\n",
    "feature_importances"
   ]
  },
  {
   "cell_type": "code",
   "execution_count": 161,
   "metadata": {},
   "outputs": [
    {
     "data": {
      "text/plain": [
       "[(0.3192948300547223, 'region'),\n",
       " (0.3032334133269448, 'pregnancies'),\n",
       " (0.18056773518694044, 'bmi'),\n",
       " (0.14798449325750693, 'age'),\n",
       " (0.004039389851603868, 'sex'),\n",
       " (0.0037519014628370605, 'smoker')]"
      ]
     },
     "execution_count": 161,
     "metadata": {},
     "output_type": "execute_result"
    }
   ],
   "source": [
    "features_num = ['age', 'bmi']\n",
    "features_cat = ['sex', 'smoker', 'region', 'pregnancies']\n",
    "\n",
    "attributes = features_num + features_cat \n",
    "sorted(zip(feature_importances, attributes), reverse=True)"
   ]
  },
  {
   "cell_type": "code",
   "execution_count": 162,
   "metadata": {},
   "outputs": [
    {
     "data": {
      "text/plain": [
       "4690.865543690981"
      ]
     },
     "execution_count": 162,
     "metadata": {},
     "output_type": "execute_result"
    }
   ],
   "source": [
    "X_test_prepd = preprocessor.fit_transform(X_test)\n",
    "\n",
    "final_model = rnd_search.best_estimator_\n",
    "\n",
    "final_pred = final_model.predict(X_test_prepd)\n",
    "\n",
    "final_mse = mean_squared_error(y_test, final_pred)\n",
    "final_rmse = np.sqrt(final_mse)\n",
    "final_rmse"
   ]
  },
  {
   "cell_type": "code",
   "execution_count": 163,
   "metadata": {},
   "outputs": [
    {
     "data": {
      "text/plain": [
       "array([3723.52230937, 5490.33885199])"
      ]
     },
     "execution_count": 163,
     "metadata": {},
     "output_type": "execute_result"
    }
   ],
   "source": [
    "from scipy import stats\n",
    "\n",
    "confidence = 0.95\n",
    "squared_errors = (final_pred - y_test) ** 2\n",
    "mean = squared_errors.mean()\n",
    "m = len(squared_errors)\n",
    "\n",
    "np.sqrt(stats.t.interval(confidence, m - 1,\n",
    "                         loc = np.mean(squared_errors),\n",
    "                         scale = stats.sem(squared_errors)))"
   ]
  },
  {
   "cell_type": "code",
   "execution_count": 164,
   "metadata": {},
   "outputs": [
    {
     "name": "stdout",
     "output_type": "stream",
     "text": [
      "      age  sex     bmi  smoker  region  pregnancies\n",
      "486    54    0  21.470       0       1            3\n",
      "170    63    1  41.470       0       2            0\n",
      "277    22    0  24.300       0       3            0\n",
      "1033   18    1  21.565       1       0            0\n",
      "Predictions:\t [12322.71040648 13654.95776759  2282.12524644 14275.22472403]\n",
      "Labels:\t\t [12475.3513, 13405.3903, 2150.469, 13747.87235]\n"
     ]
    }
   ],
   "source": [
    "some_data = X_train_prepd[4:8]\n",
    "some_labels = y_train[4:8]\n",
    "\n",
    "print(X_train[4:8])\n",
    "print(\"Predictions:\\t\", final_model.predict(some_data))\n",
    "print(\"Labels:\\t\\t\", list(some_labels))"
   ]
  },
  {
   "cell_type": "code",
   "execution_count": null,
   "metadata": {},
   "outputs": [],
   "source": []
  }
 ],
 "metadata": {
  "kernelspec": {
   "display_name": "Python 3",
   "language": "python",
   "name": "python3"
  },
  "language_info": {
   "codemirror_mode": {
    "name": "ipython",
    "version": 3
   },
   "file_extension": ".py",
   "mimetype": "text/x-python",
   "name": "python",
   "nbconvert_exporter": "python",
   "pygments_lexer": "ipython3",
   "version": "3.7.4"
  }
 },
 "nbformat": 4,
 "nbformat_minor": 2
}
